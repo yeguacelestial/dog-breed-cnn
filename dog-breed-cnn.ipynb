{
 "cells": [
  {
   "cell_type": "code",
   "execution_count": 4,
   "metadata": {},
   "outputs": [
    {
     "output_type": "stream",
     "name": "stdout",
     "text": "There are 133 dog categories.\nThere are 8351 total dog images.\nThere are 6680 training dog images.\nThere are 835 validation dog images.\nThere are 836 test dog images.\n"
    }
   ],
   "source": [
    "%run dog-breed-cnn.py\n",
    "\n",
    "# Load train, test and validation datasets\n",
    "train_files, train_targets = load_dataset('Data/dogImages/train')\n",
    "valid_files, valid_targets = load_dataset('Data/dogImages/valid')\n",
    "test_files, test_targets = load_dataset('Data/dogImages/test')\n",
    "\n",
    "# Load list of dogs names\n",
    "dog_names = [item[20:-1] for item in sorted(glob('Data/dogImages/train/*/'))]\n",
    "\n",
    "# Print statistics about the dataset\n",
    "print(f'There are {len(dog_names)} dog categories.')\n",
    "print(f'There are {len(np.hstack([train_files, valid_files, test_files]))} total dog images.')\n",
    "print(f'There are {len(train_files)} training dog images.')\n",
    "print(f'There are {len(valid_files)} validation dog images.')\n",
    "print(f'There are {len(test_files)} test dog images.')"
   ]
  },
  {
   "cell_type": "code",
   "execution_count": null,
   "metadata": {},
   "outputs": [],
   "source": []
  }
 ],
 "metadata": {
  "language_info": {
   "codemirror_mode": {
    "name": "ipython",
    "version": 3
   },
   "file_extension": ".py",
   "mimetype": "text/x-python",
   "name": "python",
   "nbconvert_exporter": "python",
   "pygments_lexer": "ipython3",
   "version": "3.6.10-final"
  },
  "orig_nbformat": 2,
  "kernelspec": {
   "name": "python361064bitdogbreedcnnconda411281d284d74b88b3ee0edfcff44e19",
   "display_name": "Python 3.6.10 64-bit ('dog-breed-cnn': conda)"
  }
 },
 "nbformat": 4,
 "nbformat_minor": 2
}