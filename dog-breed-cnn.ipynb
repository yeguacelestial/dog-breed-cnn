{
 "cells": [
  {
   "cell_type": "code",
   "execution_count": 8,
   "metadata": {},
   "outputs": [
    {
     "output_type": "stream",
     "name": "stdout",
     "text": "There are 133 dog categories.\nThere are 8351 total dog images.\nThere are 6680 training dog images.\nThere are 835 validation dog images.\nThere are 836 test dog images.\nThere are 13233 total human images.\n"
    }
   ],
   "source": [
    "# STEP 0 - Import datasets\n",
    "\n",
    "%run dog-breed-cnn.py\n",
    "\n",
    "# Load train, test and validation datasets\n",
    "train_files, train_targets = load_dataset('Data/dogImages/train')\n",
    "valid_files, valid_targets = load_dataset('Data/dogImages/valid')\n",
    "test_files, test_targets = load_dataset('Data/dogImages/test')\n",
    "\n",
    "# Load list of dogs names\n",
    "dog_names = [item[20:-1] for item in sorted(glob('Data/dogImages/train/*/'))]\n",
    "\n",
    "# Print statistics about the dataset\n",
    "print(f'There are {len(dog_names)} dog categories.')\n",
    "print(f'There are {len(np.hstack([train_files, valid_files, test_files]))} total dog images.')\n",
    "print(f'There are {len(train_files)} training dog images.')\n",
    "print(f'There are {len(valid_files)} validation dog images.')\n",
    "print(f'There are {len(test_files)} test dog images.')\n",
    "\n",
    "# Import human datasets\n",
    "random.seed(8675309)\n",
    "\n",
    "# Load filenames in shuffled human dataset\n",
    "human_files = np.array(glob('Data/lfw/*/*'))\n",
    "random.shuffle(human_files)\n",
    "\n",
    "# Print statistics about the human dataset\n",
    "print(f'There are {len(human_files)} total human images.')"
   ]
  },
  {
   "cell_type": "code",
   "execution_count": 10,
   "metadata": {},
   "outputs": [
    {
     "output_type": "error",
     "ename": "error",
     "evalue": "OpenCV(4.2.0) /io/opencv/modules/objdetect/src/cascadedetect.cpp:1689: error: (-215:Assertion failed) !empty() in function 'detectMultiScale'\n",
     "traceback": [
      "\u001b[0;31m---------------------------------------------------------------------------\u001b[0m",
      "\u001b[0;31merror\u001b[0m                                     Traceback (most recent call last)",
      "\u001b[0;32m<ipython-input-10-ea5c7ba0e0ab>\u001b[0m in \u001b[0;36m<module>\u001b[0;34m\u001b[0m\n\u001b[1;32m     12\u001b[0m \u001b[0;34m\u001b[0m\u001b[0m\n\u001b[1;32m     13\u001b[0m \u001b[0;31m# Find faces in the image\u001b[0m\u001b[0;34m\u001b[0m\u001b[0;34m\u001b[0m\u001b[0;34m\u001b[0m\u001b[0m\n\u001b[0;32m---> 14\u001b[0;31m \u001b[0mfaces\u001b[0m \u001b[0;34m=\u001b[0m \u001b[0mface_cascade\u001b[0m\u001b[0;34m.\u001b[0m\u001b[0mdetectMultiScale\u001b[0m\u001b[0;34m(\u001b[0m\u001b[0mgray\u001b[0m\u001b[0;34m)\u001b[0m\u001b[0;34m\u001b[0m\u001b[0;34m\u001b[0m\u001b[0m\n\u001b[0m\u001b[1;32m     15\u001b[0m \u001b[0;34m\u001b[0m\u001b[0m\n\u001b[1;32m     16\u001b[0m \u001b[0;31m# Print number of faces detected in the image\u001b[0m\u001b[0;34m\u001b[0m\u001b[0;34m\u001b[0m\u001b[0;34m\u001b[0m\u001b[0m\n",
      "\u001b[0;31merror\u001b[0m: OpenCV(4.2.0) /io/opencv/modules/objdetect/src/cascadedetect.cpp:1689: error: (-215:Assertion failed) !empty() in function 'detectMultiScale'\n"
     ]
    }
   ],
   "source": [
    "%run dog-breed-cnn.py\n",
    "%matplotlib inline\n",
    "\n",
    "# STEP 1 - Detect humans\n",
    "# Extract pre-trained face detector\n",
    "face_cascade = cv2.CascadeClassifier('haarcascades/haarcascade_frontalface_alt.xml')\n",
    "\n",
    "# Load color (BGR) image\n",
    "img = cv2.imread(human_files[3])\n",
    "# Convert BGR image to grayscale\n",
    "gray = cv2.cvtColor(img, cv2.COLOR_BGR2GRAY)\n",
    "\n",
    "# Find faces in the image\n",
    "faces = face_cascade.detectMultiScale(gray)\n",
    "\n",
    "# Print number of faces detected in the image\n",
    "print(f'Number of faces detected: {len(faces)}')\n",
    "\n",
    "# Get bounding box for each detected face\n",
    "for (x,y,w,h) in faces:\n",
    "    # Add bounding box to color image\n",
    "    cv2.rectangle(img,(x,y), (x+w,y+h), (255,0,0), 2)\n",
    "\n",
    "# Convert BGR image to RGB for plotting\n",
    "cv_rgb = cv2.cvtColor(img, cv2.COLOR_BGR2RGB)\n",
    "\n",
    "# Display the image, along with the bounding box\n",
    "plt.imshow(cv_rgb)\n",
    "plt.show()"
   ]
  },
  {
   "cell_type": "code",
   "execution_count": null,
   "metadata": {},
   "outputs": [],
   "source": []
  }
 ],
 "metadata": {
  "language_info": {
   "codemirror_mode": {
    "name": "ipython",
    "version": 3
   },
   "file_extension": ".py",
   "mimetype": "text/x-python",
   "name": "python",
   "nbconvert_exporter": "python",
   "pygments_lexer": "ipython3",
   "version": "3.6.10-final"
  },
  "orig_nbformat": 2,
  "kernelspec": {
   "name": "python361064bitdogbreedcnnconda411281d284d74b88b3ee0edfcff44e19",
   "display_name": "Python 3.6.10 64-bit ('dog-breed-cnn': conda)"
  }
 },
 "nbformat": 4,
 "nbformat_minor": 2
}