{
 "cells": [
  {
   "cell_type": "code",
   "execution_count": 1,
   "metadata": {},
   "outputs": [],
   "source": [
    "%matplotlib inline"
   ]
  },
  {
   "cell_type": "code",
   "execution_count": 11,
   "metadata": {},
   "outputs": [
    {
     "output_type": "error",
     "ename": "SyntaxError",
     "evalue": "invalid syntax (<ipython-input-11-0d04216f0c00>, line 2)",
     "traceback": [
      "\u001b[0;36m  File \u001b[0;32m\"<ipython-input-11-0d04216f0c00>\"\u001b[0;36m, line \u001b[0;32m2\u001b[0m\n\u001b[0;31m    import dog-breed-cnn\u001b[0m\n\u001b[0m              ^\u001b[0m\n\u001b[0;31mSyntaxError\u001b[0m\u001b[0;31m:\u001b[0m invalid syntax\n"
     ]
    }
   ],
   "source": [
    "%run dog-breed-cnn.py\n",
    "# Unzip the train and test zip file\n",
    "archive_train = ZipFile(\"Data/test.zip\", \"r\")\n",
    "archive_test = ZipFile(\"Data/train.zip\", \"r\")\n",
    "\n",
    "# This line shows the 5 first image name of the train database\n",
    "print(archive_train.namelist()[0:5])\n",
    "\n",
    "# This line shows the number of images in the train database, \n",
    "# noted that we must remove the 1st value (column header)\n",
    "print(len(archive_train.namelist()[:]) - 1)"
   ]
  },
  {
   "cell_type": "code",
   "execution_count": null,
   "metadata": {},
   "outputs": [],
   "source": []
  }
 ],
 "metadata": {
  "language_info": {
   "codemirror_mode": {
    "name": "ipython",
    "version": 3
   },
   "file_extension": ".py",
   "mimetype": "text/x-python",
   "name": "python",
   "nbconvert_exporter": "python",
   "pygments_lexer": "ipython3",
   "version": "3.6.10-final"
  },
  "orig_nbformat": 2,
  "kernelspec": {
   "name": "python361064bitdogbreedcnnconda411281d284d74b88b3ee0edfcff44e19",
   "display_name": "Python 3.6.10 64-bit ('dog-breed-cnn': conda)"
  }
 },
 "nbformat": 4,
 "nbformat_minor": 2
}