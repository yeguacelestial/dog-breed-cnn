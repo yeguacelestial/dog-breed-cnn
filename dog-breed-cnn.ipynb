{
 "cells": [
  {
   "cell_type": "code",
   "execution_count": 1,
   "metadata": {},
   "outputs": [],
   "source": [
    "%matplotlib inline"
   ]
  },
  {
   "cell_type": "code",
   "execution_count": 13,
   "metadata": {},
   "outputs": [
    {
     "output_type": "execute_result",
     "data": {
      "text/plain": "10357"
     },
     "metadata": {},
     "execution_count": 13
    }
   ],
   "source": [
    "%run dog-breed-cnn.py\n",
    "# Unzip the train and test zip file\n",
    "archive_train = ZipFile(\"Data/test.zip\", \"r\")\n",
    "archive_test = ZipFile(\"Data/train.zip\", \"r\")\n",
    "\n",
    "# This line shows the 5 first image name of the train database\n",
    "archive_train.namelist()[0:5]\n",
    "\n",
    "# This line shows the number of images in the train database, \n",
    "# noted that we must remove the 1st value (column header)\n",
    "len(archive_train.namelist()[:]) - 1"
   ]
  },
  {
   "cell_type": "code",
   "execution_count": 14,
   "metadata": {},
   "outputs": [
    {
     "output_type": "stream",
     "name": "stdout",
     "text": "Time elapsed: 0:02:15\nTime elapsed: 0:01:47\n"
    }
   ],
   "source": [
    "%run dog-breed-cnn.py\n",
    "\n",
    "image_resize = 60\n",
    "\n",
    "DataBase_creator(archivezip=archive_train, nwidth=image_resize, nheight=image_resize, save_name=\"train\")\n",
    "\n",
    "DataBase_creator(archivezip=archive_test, nwidth=image_resize, nheight=image_resize, save_name=\"test\")\n"
   ]
  },
  {
   "cell_type": "code",
   "execution_count": 18,
   "metadata": {},
   "outputs": [
    {
     "output_type": "execute_result",
     "data": {
      "text/plain": "(10357, 60, 60, 3)"
     },
     "metadata": {},
     "execution_count": 18
    }
   ],
   "source": [
    "# Load TRAIN\n",
    "train = pickle.load(open(\"train.p\",\"rb\"))\n",
    "train.shape"
   ]
  },
  {
   "cell_type": "code",
   "execution_count": 17,
   "metadata": {},
   "outputs": [
    {
     "output_type": "execute_result",
     "data": {
      "text/plain": "(10222, 60, 60, 3)"
     },
     "metadata": {},
     "execution_count": 17
    }
   ],
   "source": [
    "# Load TEST\n",
    "test = pickle.load(open(\"test.p\",\"rb\"))\n",
    "test.shape"
   ]
  },
  {
   "cell_type": "code",
   "execution_count": null,
   "metadata": {},
   "outputs": [],
   "source": []
  }
 ],
 "metadata": {
  "language_info": {
   "codemirror_mode": {
    "name": "ipython",
    "version": 3
   },
   "file_extension": ".py",
   "mimetype": "text/x-python",
   "name": "python",
   "nbconvert_exporter": "python",
   "pygments_lexer": "ipython3",
   "version": "3.6.10-final"
  },
  "orig_nbformat": 2,
  "kernelspec": {
   "name": "python361064bitdogbreedcnnconda411281d284d74b88b3ee0edfcff44e19",
   "display_name": "Python 3.6.10 64-bit ('dog-breed-cnn': conda)"
  }
 },
 "nbformat": 4,
 "nbformat_minor": 2
}