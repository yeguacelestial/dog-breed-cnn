{
 "cells": [
  {
   "cell_type": "code",
   "execution_count": 3,
   "metadata": {},
   "outputs": [
    {
     "output_type": "stream",
     "name": "stderr",
     "text": "Using TensorFlow backend.\n"
    }
   ],
   "source": [
    "%run dog-breed-cnn.py\n",
    "\n",
    "# Load train, test and validation datasets\n",
    "train_files, train_targets = load_dataset('Data/dogImages/train')\n",
    "valid_files, valid_targets = load_dataset('Data/dogImages/valid')\n",
    "test_files, test_targets = load_dataset('Data/dogImages/test')"
   ]
  },
  {
   "cell_type": "code",
   "execution_count": null,
   "metadata": {},
   "outputs": [],
   "source": []
  }
 ],
 "metadata": {
  "language_info": {
   "codemirror_mode": {
    "name": "ipython",
    "version": 3
   },
   "file_extension": ".py",
   "mimetype": "text/x-python",
   "name": "python",
   "nbconvert_exporter": "python",
   "pygments_lexer": "ipython3",
   "version": "3.6.10-final"
  },
  "orig_nbformat": 2,
  "kernelspec": {
   "name": "python361064bitdogbreedcnnconda411281d284d74b88b3ee0edfcff44e19",
   "display_name": "Python 3.6.10 64-bit ('dog-breed-cnn': conda)"
  }
 },
 "nbformat": 4,
 "nbformat_minor": 2
}